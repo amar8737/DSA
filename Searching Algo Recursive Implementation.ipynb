{
 "cells": [
  {
   "cell_type": "markdown",
   "id": "0b76f4ec-9809-4c60-919b-1ab3e5bf7e81",
   "metadata": {},
   "source": [
    "# Binary Search"
   ]
  },
  {
   "cell_type": "code",
   "execution_count": 1,
   "id": "cb2dfe22-adc6-4968-a337-714099075c28",
   "metadata": {},
   "outputs": [],
   "source": [
    "def binarySearch(a,x,si,ei):\n",
    "    if si>ei:\n",
    "        return -1\n",
    "    mid = (si+ei)//2\n",
    "    if a[mid] == x:\n",
    "        return mid\n",
    "    elif a[mid]>x:\n",
    "        return binarySearch(a,x,si,mid-1)\n",
    "    else:\n",
    "        return binarySearch(a,x,mid+1,ei)"
   ]
  },
  {
   "cell_type": "code",
   "execution_count": 2,
   "id": "0c7e242c-f8b0-4be5-86c9-d8ab64874d1a",
   "metadata": {},
   "outputs": [
    {
     "data": {
      "text/plain": [
       "-1"
      ]
     },
     "execution_count": 2,
     "metadata": {},
     "output_type": "execute_result"
    }
   ],
   "source": [
    "binarySearch([1,2,3,4,5,6,7,8,9,10],11,0,9)"
   ]
  },
  {
   "cell_type": "code",
   "execution_count": 3,
   "id": "95138021-3adc-4bc3-9d5b-abd04228875d",
   "metadata": {},
   "outputs": [
    {
     "data": {
      "text/plain": [
       "4"
      ]
     },
     "execution_count": 3,
     "metadata": {},
     "output_type": "execute_result"
    }
   ],
   "source": [
    "binarySearch([1,2,3,4,5,6,7,8,9,10],5,0,9)"
   ]
  },
  {
   "cell_type": "markdown",
   "id": "0792d4f5-9b3d-463a-844d-6461b024139e",
   "metadata": {},
   "source": [
    "# Quick Sort"
   ]
  },
  {
   "cell_type": "code",
   "execution_count": null,
   "id": "e6ba8c09-a9df-4937-a833-26f45c514cfc",
   "metadata": {},
   "outputs": [],
   "source": []
  }
 ],
 "metadata": {
  "kernelspec": {
   "display_name": "Python 3 (ipykernel)",
   "language": "python",
   "name": "python3"
  },
  "language_info": {
   "codemirror_mode": {
    "name": "ipython",
    "version": 3
   },
   "file_extension": ".py",
   "mimetype": "text/x-python",
   "name": "python",
   "nbconvert_exporter": "python",
   "pygments_lexer": "ipython3",
   "version": "3.12.4"
  }
 },
 "nbformat": 4,
 "nbformat_minor": 5
}
